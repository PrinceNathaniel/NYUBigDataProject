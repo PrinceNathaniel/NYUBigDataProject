{
 "cells": [
  {
   "cell_type": "code",
   "execution_count": 1,
   "metadata": {
    "collapsed": true
   },
   "outputs": [],
   "source": [
    "import pandas as pd"
   ]
  },
  {
   "cell_type": "code",
   "execution_count": 2,
   "metadata": {
    "collapsed": false
   },
   "outputs": [
    {
     "name": "stderr",
     "output_type": "stream",
     "text": [
      "C:\\ProgramData\\Anaconda2\\lib\\site-packages\\IPython\\core\\interactiveshell.py:2717: DtypeWarning: Columns (40,49,52,58,59) have mixed types. Specify dtype option on import or set low_memory=False.\n",
      "  interactivity=interactivity, compiler=compiler, result=result)\n"
     ]
    }
   ],
   "source": [
    "df=pd.read_csv('testdata.csv')"
   ]
  },
  {
   "cell_type": "code",
   "execution_count": 3,
   "metadata": {
    "collapsed": false
   },
   "outputs": [
    {
     "data": {
      "text/html": [
       "<div>\n",
       "<table border=\"1\" class=\"dataframe\">\n",
       "  <thead>\n",
       "    <tr style=\"text-align: right;\">\n",
       "      <th></th>\n",
       "      <th>Unnamed: 0</th>\n",
       "      <th>canclass</th>\n",
       "      <th>occupation</th>\n",
       "      <th>boroughcd</th>\n",
       "      <th>empstrname</th>\n",
       "      <th>c_code</th>\n",
       "      <th>candlast</th>\n",
       "      <th>rr_ind</th>\n",
       "      <th>intempstnm</th>\n",
       "      <th>purposecd</th>\n",
       "      <th>...</th>\n",
       "      <th>location_1.human_address.city</th>\n",
       "      <th>location_1.human_address.state</th>\n",
       "      <th>location_1.human_address.zip</th>\n",
       "      <th>location_1.longitude</th>\n",
       "      <th>strno</th>\n",
       "      <th>adjtypecd</th>\n",
       "      <th>refunddate</th>\n",
       "      <th>intstrno</th>\n",
       "      <th>location_3.human_address.city</th>\n",
       "      <th>location_3.human_address.state</th>\n",
       "    </tr>\n",
       "  </thead>\n",
       "  <tbody>\n",
       "    <tr>\n",
       "      <th>0</th>\n",
       "      <td>1</td>\n",
       "      <td>P</td>\n",
       "      <td>NaN</td>\n",
       "      <td>K</td>\n",
       "      <td>NaN</td>\n",
       "      <td>IND</td>\n",
       "      <td>Atwood King</td>\n",
       "      <td>N</td>\n",
       "      <td>NaN</td>\n",
       "      <td>NaN</td>\n",
       "      <td>...</td>\n",
       "      <td>NaN</td>\n",
       "      <td>NaN</td>\n",
       "      <td>NaN</td>\n",
       "      <td>NaN</td>\n",
       "      <td>NaN</td>\n",
       "      <td>NaN</td>\n",
       "      <td>NaN</td>\n",
       "      <td>NaN</td>\n",
       "      <td>NaN</td>\n",
       "      <td>NaN</td>\n",
       "    </tr>\n",
       "    <tr>\n",
       "      <th>1</th>\n",
       "      <td>2</td>\n",
       "      <td>P</td>\n",
       "      <td>NaN</td>\n",
       "      <td>NaN</td>\n",
       "      <td>NaN</td>\n",
       "      <td>UNKN</td>\n",
       "      <td>Montano</td>\n",
       "      <td>N</td>\n",
       "      <td>NaN</td>\n",
       "      <td>NaN</td>\n",
       "      <td>...</td>\n",
       "      <td>NaN</td>\n",
       "      <td>NaN</td>\n",
       "      <td>NaN</td>\n",
       "      <td>NaN</td>\n",
       "      <td>NaN</td>\n",
       "      <td>NaN</td>\n",
       "      <td>NaN</td>\n",
       "      <td>NaN</td>\n",
       "      <td>NaN</td>\n",
       "      <td>NaN</td>\n",
       "    </tr>\n",
       "    <tr>\n",
       "      <th>2</th>\n",
       "      <td>3</td>\n",
       "      <td>P</td>\n",
       "      <td>NaN</td>\n",
       "      <td>X</td>\n",
       "      <td>NaN</td>\n",
       "      <td>UNKN</td>\n",
       "      <td>Colon</td>\n",
       "      <td>N</td>\n",
       "      <td>NaN</td>\n",
       "      <td>NaN</td>\n",
       "      <td>...</td>\n",
       "      <td>NaN</td>\n",
       "      <td>NaN</td>\n",
       "      <td>NaN</td>\n",
       "      <td>NaN</td>\n",
       "      <td>NaN</td>\n",
       "      <td>NaN</td>\n",
       "      <td>NaN</td>\n",
       "      <td>NaN</td>\n",
       "      <td>NaN</td>\n",
       "      <td>NaN</td>\n",
       "    </tr>\n",
       "    <tr>\n",
       "      <th>3</th>\n",
       "      <td>4</td>\n",
       "      <td>P</td>\n",
       "      <td>NaN</td>\n",
       "      <td>NaN</td>\n",
       "      <td>NaN</td>\n",
       "      <td>UNKN</td>\n",
       "      <td>Colon</td>\n",
       "      <td>N</td>\n",
       "      <td>NaN</td>\n",
       "      <td>NaN</td>\n",
       "      <td>...</td>\n",
       "      <td>NaN</td>\n",
       "      <td>NaN</td>\n",
       "      <td>NaN</td>\n",
       "      <td>NaN</td>\n",
       "      <td>NaN</td>\n",
       "      <td>NaN</td>\n",
       "      <td>NaN</td>\n",
       "      <td>NaN</td>\n",
       "      <td>NaN</td>\n",
       "      <td>NaN</td>\n",
       "    </tr>\n",
       "    <tr>\n",
       "      <th>4</th>\n",
       "      <td>5</td>\n",
       "      <td>P</td>\n",
       "      <td>NaN</td>\n",
       "      <td>NaN</td>\n",
       "      <td>NaN</td>\n",
       "      <td>UNKN</td>\n",
       "      <td>Martinez</td>\n",
       "      <td>N</td>\n",
       "      <td>NaN</td>\n",
       "      <td>NaN</td>\n",
       "      <td>...</td>\n",
       "      <td>NaN</td>\n",
       "      <td>NaN</td>\n",
       "      <td>NaN</td>\n",
       "      <td>NaN</td>\n",
       "      <td>NaN</td>\n",
       "      <td>NaN</td>\n",
       "      <td>NaN</td>\n",
       "      <td>NaN</td>\n",
       "      <td>NaN</td>\n",
       "      <td>NaN</td>\n",
       "    </tr>\n",
       "  </tbody>\n",
       "</table>\n",
       "<p>5 rows × 60 columns</p>\n",
       "</div>"
      ],
      "text/plain": [
       "   Unnamed: 0 canclass occupation boroughcd empstrname c_code     candlast  \\\n",
       "0           1        P        NaN         K        NaN    IND  Atwood King   \n",
       "1           2        P        NaN       NaN        NaN   UNKN      Montano   \n",
       "2           3        P        NaN         X        NaN   UNKN        Colon   \n",
       "3           4        P        NaN       NaN        NaN   UNKN        Colon   \n",
       "4           5        P        NaN       NaN        NaN   UNKN     Martinez   \n",
       "\n",
       "  rr_ind intempstnm purposecd              ...                \\\n",
       "0      N        NaN       NaN              ...                 \n",
       "1      N        NaN       NaN              ...                 \n",
       "2      N        NaN       NaN              ...                 \n",
       "3      N        NaN       NaN              ...                 \n",
       "4      N        NaN       NaN              ...                 \n",
       "\n",
       "  location_1.human_address.city location_1.human_address.state  \\\n",
       "0                           NaN                            NaN   \n",
       "1                           NaN                            NaN   \n",
       "2                           NaN                            NaN   \n",
       "3                           NaN                            NaN   \n",
       "4                           NaN                            NaN   \n",
       "\n",
       "  location_1.human_address.zip location_1.longitude strno adjtypecd  \\\n",
       "0                          NaN                  NaN   NaN       NaN   \n",
       "1                          NaN                  NaN   NaN       NaN   \n",
       "2                          NaN                  NaN   NaN       NaN   \n",
       "3                          NaN                  NaN   NaN       NaN   \n",
       "4                          NaN                  NaN   NaN       NaN   \n",
       "\n",
       "  refunddate intstrno location_3.human_address.city  \\\n",
       "0        NaN      NaN                           NaN   \n",
       "1        NaN      NaN                           NaN   \n",
       "2        NaN      NaN                           NaN   \n",
       "3        NaN      NaN                           NaN   \n",
       "4        NaN      NaN                           NaN   \n",
       "\n",
       "  location_3.human_address.state  \n",
       "0                            NaN  \n",
       "1                            NaN  \n",
       "2                            NaN  \n",
       "3                            NaN  \n",
       "4                            NaN  \n",
       "\n",
       "[5 rows x 60 columns]"
      ]
     },
     "execution_count": 3,
     "metadata": {},
     "output_type": "execute_result"
    }
   ],
   "source": [
    "df.head()"
   ]
  },
  {
   "cell_type": "code",
   "execution_count": 4,
   "metadata": {
    "collapsed": false
   },
   "outputs": [
    {
     "data": {
      "text/plain": [
       "'canclass'"
      ]
     },
     "execution_count": 4,
     "metadata": {},
     "output_type": "execute_result"
    }
   ],
   "source": [
    "df.columns[1]"
   ]
  },
  {
   "cell_type": "code",
   "execution_count": 5,
   "metadata": {
    "collapsed": false
   },
   "outputs": [
    {
     "name": "stdout",
     "output_type": "stream",
     "text": [
      "NP\n",
      "P\n"
     ]
    }
   ],
   "source": [
    "key=list(set(df['canclass']))\n",
    "for i in key:\n",
    "    print i"
   ]
  },
  {
   "cell_type": "code",
   "execution_count": 6,
   "metadata": {
    "collapsed": true
   },
   "outputs": [],
   "source": [
    "df['bincanclass']=0"
   ]
  },
  {
   "cell_type": "code",
   "execution_count": 7,
   "metadata": {
    "collapsed": false
   },
   "outputs": [
    {
     "data": {
      "text/plain": [
       "'P'"
      ]
     },
     "execution_count": 7,
     "metadata": {},
     "output_type": "execute_result"
    }
   ],
   "source": [
    "df['canclass'][1]"
   ]
  },
  {
   "cell_type": "code",
   "execution_count": 8,
   "metadata": {
    "collapsed": true
   },
   "outputs": [],
   "source": [
    "tmpdf=df.fillna('none')"
   ]
  },
  {
   "cell_type": "code",
   "execution_count": 9,
   "metadata": {
    "collapsed": false
   },
   "outputs": [
    {
     "data": {
      "text/html": [
       "<div>\n",
       "<table border=\"1\" class=\"dataframe\">\n",
       "  <thead>\n",
       "    <tr style=\"text-align: right;\">\n",
       "      <th></th>\n",
       "      <th>Unnamed: 0</th>\n",
       "      <th>canclass</th>\n",
       "      <th>occupation</th>\n",
       "      <th>boroughcd</th>\n",
       "      <th>empstrname</th>\n",
       "      <th>c_code</th>\n",
       "      <th>candlast</th>\n",
       "      <th>rr_ind</th>\n",
       "      <th>intempstnm</th>\n",
       "      <th>purposecd</th>\n",
       "      <th>...</th>\n",
       "      <th>location_1.human_address.state</th>\n",
       "      <th>location_1.human_address.zip</th>\n",
       "      <th>location_1.longitude</th>\n",
       "      <th>strno</th>\n",
       "      <th>adjtypecd</th>\n",
       "      <th>refunddate</th>\n",
       "      <th>intstrno</th>\n",
       "      <th>location_3.human_address.city</th>\n",
       "      <th>location_3.human_address.state</th>\n",
       "      <th>bincanclass</th>\n",
       "    </tr>\n",
       "  </thead>\n",
       "  <tbody>\n",
       "    <tr>\n",
       "      <th>0</th>\n",
       "      <td>1</td>\n",
       "      <td>P</td>\n",
       "      <td>none</td>\n",
       "      <td>K</td>\n",
       "      <td>none</td>\n",
       "      <td>IND</td>\n",
       "      <td>Atwood King</td>\n",
       "      <td>N</td>\n",
       "      <td>none</td>\n",
       "      <td>none</td>\n",
       "      <td>...</td>\n",
       "      <td>none</td>\n",
       "      <td>none</td>\n",
       "      <td>none</td>\n",
       "      <td>none</td>\n",
       "      <td>none</td>\n",
       "      <td>none</td>\n",
       "      <td>none</td>\n",
       "      <td>none</td>\n",
       "      <td>none</td>\n",
       "      <td>0</td>\n",
       "    </tr>\n",
       "    <tr>\n",
       "      <th>1</th>\n",
       "      <td>2</td>\n",
       "      <td>P</td>\n",
       "      <td>none</td>\n",
       "      <td>none</td>\n",
       "      <td>none</td>\n",
       "      <td>UNKN</td>\n",
       "      <td>Montano</td>\n",
       "      <td>N</td>\n",
       "      <td>none</td>\n",
       "      <td>none</td>\n",
       "      <td>...</td>\n",
       "      <td>none</td>\n",
       "      <td>none</td>\n",
       "      <td>none</td>\n",
       "      <td>none</td>\n",
       "      <td>none</td>\n",
       "      <td>none</td>\n",
       "      <td>none</td>\n",
       "      <td>none</td>\n",
       "      <td>none</td>\n",
       "      <td>0</td>\n",
       "    </tr>\n",
       "    <tr>\n",
       "      <th>2</th>\n",
       "      <td>3</td>\n",
       "      <td>P</td>\n",
       "      <td>none</td>\n",
       "      <td>X</td>\n",
       "      <td>none</td>\n",
       "      <td>UNKN</td>\n",
       "      <td>Colon</td>\n",
       "      <td>N</td>\n",
       "      <td>none</td>\n",
       "      <td>none</td>\n",
       "      <td>...</td>\n",
       "      <td>none</td>\n",
       "      <td>none</td>\n",
       "      <td>none</td>\n",
       "      <td>none</td>\n",
       "      <td>none</td>\n",
       "      <td>none</td>\n",
       "      <td>none</td>\n",
       "      <td>none</td>\n",
       "      <td>none</td>\n",
       "      <td>0</td>\n",
       "    </tr>\n",
       "    <tr>\n",
       "      <th>3</th>\n",
       "      <td>4</td>\n",
       "      <td>P</td>\n",
       "      <td>none</td>\n",
       "      <td>none</td>\n",
       "      <td>none</td>\n",
       "      <td>UNKN</td>\n",
       "      <td>Colon</td>\n",
       "      <td>N</td>\n",
       "      <td>none</td>\n",
       "      <td>none</td>\n",
       "      <td>...</td>\n",
       "      <td>none</td>\n",
       "      <td>none</td>\n",
       "      <td>none</td>\n",
       "      <td>none</td>\n",
       "      <td>none</td>\n",
       "      <td>none</td>\n",
       "      <td>none</td>\n",
       "      <td>none</td>\n",
       "      <td>none</td>\n",
       "      <td>0</td>\n",
       "    </tr>\n",
       "    <tr>\n",
       "      <th>4</th>\n",
       "      <td>5</td>\n",
       "      <td>P</td>\n",
       "      <td>none</td>\n",
       "      <td>none</td>\n",
       "      <td>none</td>\n",
       "      <td>UNKN</td>\n",
       "      <td>Martinez</td>\n",
       "      <td>N</td>\n",
       "      <td>none</td>\n",
       "      <td>none</td>\n",
       "      <td>...</td>\n",
       "      <td>none</td>\n",
       "      <td>none</td>\n",
       "      <td>none</td>\n",
       "      <td>none</td>\n",
       "      <td>none</td>\n",
       "      <td>none</td>\n",
       "      <td>none</td>\n",
       "      <td>none</td>\n",
       "      <td>none</td>\n",
       "      <td>0</td>\n",
       "    </tr>\n",
       "  </tbody>\n",
       "</table>\n",
       "<p>5 rows × 61 columns</p>\n",
       "</div>"
      ],
      "text/plain": [
       "   Unnamed: 0 canclass occupation boroughcd empstrname c_code     candlast  \\\n",
       "0           1        P       none         K       none    IND  Atwood King   \n",
       "1           2        P       none      none       none   UNKN      Montano   \n",
       "2           3        P       none         X       none   UNKN        Colon   \n",
       "3           4        P       none      none       none   UNKN        Colon   \n",
       "4           5        P       none      none       none   UNKN     Martinez   \n",
       "\n",
       "  rr_ind intempstnm purposecd     ...     location_1.human_address.state  \\\n",
       "0      N       none      none     ...                               none   \n",
       "1      N       none      none     ...                               none   \n",
       "2      N       none      none     ...                               none   \n",
       "3      N       none      none     ...                               none   \n",
       "4      N       none      none     ...                               none   \n",
       "\n",
       "  location_1.human_address.zip location_1.longitude strno adjtypecd  \\\n",
       "0                         none                 none  none      none   \n",
       "1                         none                 none  none      none   \n",
       "2                         none                 none  none      none   \n",
       "3                         none                 none  none      none   \n",
       "4                         none                 none  none      none   \n",
       "\n",
       "  refunddate intstrno location_3.human_address.city  \\\n",
       "0       none     none                          none   \n",
       "1       none     none                          none   \n",
       "2       none     none                          none   \n",
       "3       none     none                          none   \n",
       "4       none     none                          none   \n",
       "\n",
       "  location_3.human_address.state bincanclass  \n",
       "0                           none           0  \n",
       "1                           none           0  \n",
       "2                           none           0  \n",
       "3                           none           0  \n",
       "4                           none           0  \n",
       "\n",
       "[5 rows x 61 columns]"
      ]
     },
     "execution_count": 9,
     "metadata": {},
     "output_type": "execute_result"
    }
   ],
   "source": [
    "tmpdf.head()"
   ]
  },
  {
   "cell_type": "code",
   "execution_count": 10,
   "metadata": {
    "collapsed": false
   },
   "outputs": [],
   "source": [
    "tmp1=list(set(tmpdf['location_1.longitude']))"
   ]
  },
  {
   "cell_type": "code",
   "execution_count": 11,
   "metadata": {
    "collapsed": false
   },
   "outputs": [
    {
     "data": {
      "text/plain": [
       "'int_c_code'"
      ]
     },
     "execution_count": 11,
     "metadata": {},
     "output_type": "execute_result"
    }
   ],
   "source": [
    "df.columns[13]"
   ]
  },
  {
   "cell_type": "code",
   "execution_count": 18,
   "metadata": {
    "collapsed": false
   },
   "outputs": [
    {
     "data": {
      "text/plain": [
       "['PCOMP',\n",
       " 'none',\n",
       " 'PCOMC',\n",
       " 'EMPO',\n",
       " 'PCOM',\n",
       " 'UNKN',\n",
       " 'N',\n",
       " 'JAMES,IND,,,,Q,QUEENS,NY,11377,,,,,,,50.00,50.00,0,1,,,,,,,,,,,,,,,,,,N,N, 2001,1,B1,P,Vallone,Peter,F,H,4,ABC,,,R0004829,11/30/1999 00:00:00,,MALLIOS',\n",
       " 'PART',\n",
       " 'CORP',\n",
       " 'FAM',\n",
       " 'IND',\n",
       " 'OTHR']"
      ]
     },
     "execution_count": 18,
     "metadata": {},
     "output_type": "execute_result"
    }
   ],
   "source": [
    "y=list(set(tmpdf[df.columns[13]]))\n",
    "y"
   ]
  },
  {
   "cell_type": "code",
   "execution_count": null,
   "metadata": {
    "collapsed": false
   },
   "outputs": [
    {
     "name": "stdout",
     "output_type": "stream",
     "text": [
      "False\n",
      "<type 'numpy.int64'>\n",
      "True\n",
      "<type 'str'>\n",
      "False\n",
      "<type 'float'>\n",
      "False\n",
      "<type 'float'>\n",
      "False\n",
      "<type 'float'>\n",
      "False\n",
      "<type 'float'>\n",
      "True\n",
      "<type 'str'>\n",
      "False\n",
      "<type 'float'>\n",
      "False\n",
      "<type 'float'>\n",
      "False\n"
     ]
    }
   ],
   "source": [
    "for i in tmpdf.columns:\n",
    "    tmp=list(set(df[i]))\n",
    "    print isinstance(tmp[0],str)\n",
    "    print type(tmp[0])"
   ]
  },
  {
   "cell_type": "code",
   "execution_count": 19,
   "metadata": {
    "collapsed": true
   },
   "outputs": [],
   "source": [
    "def enlarge(df,colname):\n",
    "    namelist=list(set(df[colname]))\n",
    "    if len(namelist)==2:\n",
    "        key1=namelist[0]\n",
    "        string='bin'+colname\n",
    "        df[string]=0\n",
    "        for i in range(len(df)):\n",
    "            if df[colname][i]==key1:\n",
    "                df[string][i]==1\n",
    "    else:\n",
    "        for name in namelist:\n",
    "            string=colname+name\n",
    "            df[string]=0\n",
    "        for i in range(len(df)):\n",
    "            key1=df[colname][i]\n",
    "            keystring=colname+key1\n",
    "            df[keystring]=1\n",
    "    "
   ]
  },
  {
   "cell_type": "code",
   "execution_count": 20,
   "metadata": {
    "collapsed": true
   },
   "outputs": [],
   "source": [
    "def creatlist(df):\n",
    "    for colname in df.columns:\n",
    "        types=(list(set(df[colname]))[0])\n",
    "        if types=='none':\n",
    "            types=(list(set(df[colname]))[1])\n",
    "        if isinstance(types, str):\n",
    "            enlarge(df,colname)"
   ]
  },
  {
   "cell_type": "code",
   "execution_count": null,
   "metadata": {
    "collapsed": true
   },
   "outputs": [],
   "source": [
    "creatlist(df)"
   ]
  }
 ],
 "metadata": {
  "kernelspec": {
   "display_name": "Python 2",
   "language": "python",
   "name": "python2"
  },
  "language_info": {
   "codemirror_mode": {
    "name": "ipython",
    "version": 2
   },
   "file_extension": ".py",
   "mimetype": "text/x-python",
   "name": "python",
   "nbconvert_exporter": "python",
   "pygments_lexer": "ipython2",
   "version": "2.7.13"
  }
 },
 "nbformat": 4,
 "nbformat_minor": 2
}
